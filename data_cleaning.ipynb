{
 "cells": [
  {
   "cell_type": "code",
   "execution_count": 4,
   "metadata": {},
   "outputs": [],
   "source": [
    "# wymagane biblioteki\n",
    "import pandas as pd\n",
    "import re"
   ]
  },
  {
   "cell_type": "code",
   "execution_count": null,
   "metadata": {},
   "outputs": [],
   "source": [
    "# wczytywanie danych\n",
    "df_org = pd.read_excel('scraping results/excel/dane_otomoto.xlsx')\n",
    "df_org.shape"
   ]
  },
  {
   "cell_type": "code",
   "execution_count": null,
   "metadata": {},
   "outputs": [],
   "source": [
    "# funkcja do oczyszczania danych\n",
    "def get_data(df_org):\n",
    "    df = df_org[[' Pierwszy właściciel (od nowości)', 'Bezwypadkowy', 'Cena', 'Kierownica po prawej (Anglik)', 'Kolor', 'Kraj pochodzenia', 'Liczba drzwi', 'Liczba miejsc', 'Marka pojazdu', 'Moc', 'Model pojazdu', 'Napęd', 'Oferta od', 'Pierwszy właściciel', 'Pojemność skokowa', 'Przebieg', 'Rodzaj paliwa', 'Rok produkcji', 'Skrzynia biegów', 'Serwisowany w ASO', 'Spalanie W Mieście', 'Stan', 'Tuning', 'Typ nadwozia', 'Uszkodzony', 'Zarejestrowany jako zabytek', 'Zarejestrowany w Polsce']]\n",
    "    df = df.dropna(subset=['Cena', 'Moc', 'Pojemność skokowa', 'Przebieg', 'Spalanie W Mieście'])\n",
    "    df = df.dropna(subset=['Liczba drzwi', 'Liczba miejsc', 'Napęd', 'Skrzynia biegów'])\n",
    "\n",
    "    df = df[df['Rok produkcji'] > 1970].copy()\n",
    "\n",
    "    # tworzenie i przetwarzanie zmiennych\n",
    "    new_cena = df['Cena'].apply( lambda x: int(re.search(r'[\\d ]+', x).group().replace(' ', '')))\n",
    "    df.insert(1, 'cena', new_cena)\n",
    "    waluta = df['Cena'].apply( lambda x: re.search(r'[A-Z]{3}', x).group().replace(' ', ''))#.map({'PLN': 0, 'EUR': 1})\n",
    "    df.insert(2,'waluta', waluta)\n",
    "    moc = df['Moc'].apply( lambda x: int(re.search(r'[\\d ]+', x).group().replace(' ', '')))\n",
    "    df.insert(3,'moc', moc)\n",
    "    pojemnosc = df['Pojemność skokowa'].apply( lambda x: int(re.search(r'[\\d ]+', x).group().replace(' ', '')))\n",
    "    df.insert(4,'pojemnosc_cm3', pojemnosc)\n",
    "    przebieg = df['Przebieg'].apply( lambda x: int(re.search(r'[\\d ]+', x).group().replace(' ', '')))\n",
    "    df.insert(5,'przebieg_km', przebieg)\n",
    "    spalanie = df['Spalanie W Mieście'].apply( lambda x: float(re.search(r'[\\d,]+', x).group().replace(',', '.')))\n",
    "    df.insert(6,'spalanie_(l/100km)', spalanie)\n",
    "    df.insert(7, 'wiek', 2022-df['Rok produkcji'])\n",
    "\n",
    "    df['Pierwszy właściciel'] = df[' Pierwszy właściciel (od nowości)']\n",
    "    df = df.drop(columns=['Cena', 'Moc', 'Pojemność skokowa', 'Spalanie W Mieście', 'Przebieg', ' Pierwszy właściciel (od nowości)'])\n",
    "\n",
    "    df['Kraj pochodzenia'].fillna('Polska', inplace = True)\n",
    "    df = df[(df['Marka pojazdu'] != 'Porsche') & (df['Marka pojazdu'] != 'Land Rover')].copy()\n",
    "\n",
    "    # removing outliers\n",
    "    df = df[df['cena'] < 500000].copy()\n",
    "    df = df[df['przebieg_km'] < 6E5].copy()\n",
    "    df = df[df['pojemnosc_cm3'] < 6500].copy()\n",
    "    df = df[df['spalanie_(l/100km)'] < 25].copy()\n",
    "    df = df[df['Rok produkcji'] > 1960].copy()\n",
    "    df = df[df['moc'] < 500].copy()\n",
    "\n",
    "    df = df[df['Stan'] != 'Nowe']\n",
    "\n",
    "    for col in df.select_dtypes(include=['object']):\n",
    "        df[col] = df[col].str.strip().str.lower().str.replace(' ', '_')\n",
    "\n",
    "    # poprawa nazw kolumn\n",
    "    column_names = [\n",
    "        'cena',\n",
    "        'waluta',\n",
    "        'moc_km',\n",
    "        'pojemnosc_cm3',\n",
    "        'przebieg_km',\n",
    "        'spalanie',\n",
    "        'wiek',\n",
    "        'bezwypadkowy',\n",
    "        'kierownica_po_prawej',\n",
    "        'kolor',\n",
    "        'kraj_pochodzenia',\n",
    "        'liczba_drzwi',\n",
    "        'liczba_miejsc',\n",
    "        'marka',\n",
    "        'model',\n",
    "        'naped',\n",
    "        'oferta_od',\n",
    "        'pierwszy_wlasciciel',\n",
    "        'paliwo',\n",
    "        'rok',\n",
    "        'skrzynia',\n",
    "        'serwisowany_w_aso',\n",
    "        'stan',\n",
    "        'tuning',\n",
    "        'nadwozie',\n",
    "        'uszkodzony',\n",
    "        'zabytek',\n",
    "        'zarejestrowany_w_pl'\n",
    "    ]\n",
    "    df.columns = column_names\n",
    "    df['naped'] = df['naped'].replace(['4x4 (stały)', '4x4 (dołączany automatycznie)', '4x4 (dołączany ręcznie)'], '4x4')\n",
    "\n",
    "    return df.reset_index(drop=True)\n",
    "df = get_data(df_org)\n",
    "\n",
    "df.shape"
   ]
  },
  {
   "cell_type": "code",
   "execution_count": null,
   "metadata": {},
   "outputs": [],
   "source": [
    "df.to_excel('cars_clean.xlsx')\n",
    "df.to_parquet('cars_clean.parquet')"
   ]
  },
  {
   "cell_type": "code",
   "execution_count": null,
   "metadata": {},
   "outputs": [],
   "source": []
  }
 ],
 "metadata": {
  "kernelspec": {
   "display_name": "base",
   "language": "python",
   "name": "python3"
  },
  "language_info": {
   "codemirror_mode": {
    "name": "ipython",
    "version": 3
   },
   "file_extension": ".py",
   "mimetype": "text/x-python",
   "name": "python",
   "nbconvert_exporter": "python",
   "pygments_lexer": "ipython3",
   "version": "3.10.9"
  },
  "orig_nbformat": 4,
  "vscode": {
   "interpreter": {
    "hash": "c47b2e5a51dadd4f23e5df40085d32f03ad970f124a531dbb09baec9131e3363"
   }
  }
 },
 "nbformat": 4,
 "nbformat_minor": 2
}
